{
 "cells": [
  {
   "cell_type": "code",
   "execution_count": 1,
   "id": "75d8a40d",
   "metadata": {},
   "outputs": [],
   "source": [
    "import pandas as pd\n",
    "import matplotlib.pyplot as plt\n",
    "import seaborn as sns"
   ]
  },
  {
   "cell_type": "code",
   "execution_count": 12,
   "id": "d757f876",
   "metadata": {},
   "outputs": [],
   "source": [
    "file_path = 'C:/Users/Administrator/Downloads/Gift_Cards_5.json.gz'"
   ]
  },
  {
   "cell_type": "code",
   "execution_count": 13,
   "id": "01a24e1d",
   "metadata": {},
   "outputs": [],
   "source": [
    "df = pd.read_json(file_path, compression='gzip', lines=True)"
   ]
  },
  {
   "cell_type": "code",
   "execution_count": 14,
   "id": "dbecb365",
   "metadata": {},
   "outputs": [
    {
     "data": {
      "text/html": [
       "<div>\n",
       "<style scoped>\n",
       "    .dataframe tbody tr th:only-of-type {\n",
       "        vertical-align: middle;\n",
       "    }\n",
       "\n",
       "    .dataframe tbody tr th {\n",
       "        vertical-align: top;\n",
       "    }\n",
       "\n",
       "    .dataframe thead th {\n",
       "        text-align: right;\n",
       "    }\n",
       "</style>\n",
       "<table border=\"1\" class=\"dataframe\">\n",
       "  <thead>\n",
       "    <tr style=\"text-align: right;\">\n",
       "      <th></th>\n",
       "      <th>overall</th>\n",
       "      <th>verified</th>\n",
       "      <th>reviewTime</th>\n",
       "      <th>reviewerID</th>\n",
       "      <th>asin</th>\n",
       "      <th>style</th>\n",
       "      <th>reviewerName</th>\n",
       "      <th>reviewText</th>\n",
       "      <th>summary</th>\n",
       "      <th>unixReviewTime</th>\n",
       "      <th>vote</th>\n",
       "      <th>image</th>\n",
       "    </tr>\n",
       "  </thead>\n",
       "  <tbody>\n",
       "    <tr>\n",
       "      <th>0</th>\n",
       "      <td>5</td>\n",
       "      <td>True</td>\n",
       "      <td>06 17, 2018</td>\n",
       "      <td>A31UBHTUUIFJUT</td>\n",
       "      <td>B004LLIKVU</td>\n",
       "      <td>{'Gift Amount:': ' 50'}</td>\n",
       "      <td>john stoiber</td>\n",
       "      <td>Another great gift.</td>\n",
       "      <td>Five Stars</td>\n",
       "      <td>1529193600</td>\n",
       "      <td>NaN</td>\n",
       "      <td>NaN</td>\n",
       "    </tr>\n",
       "    <tr>\n",
       "      <th>1</th>\n",
       "      <td>4</td>\n",
       "      <td>True</td>\n",
       "      <td>06 14, 2018</td>\n",
       "      <td>A2MN5JQMIY0FQ2</td>\n",
       "      <td>B004LLIKVU</td>\n",
       "      <td>{'Gift Amount:': ' 50'}</td>\n",
       "      <td>Amazon Customer</td>\n",
       "      <td>Gift card for my daughter</td>\n",
       "      <td>Ease of use</td>\n",
       "      <td>1528934400</td>\n",
       "      <td>NaN</td>\n",
       "      <td>NaN</td>\n",
       "    </tr>\n",
       "    <tr>\n",
       "      <th>2</th>\n",
       "      <td>5</td>\n",
       "      <td>True</td>\n",
       "      <td>06 2, 2018</td>\n",
       "      <td>A25POI5IGGENPM</td>\n",
       "      <td>B004LLIKVU</td>\n",
       "      <td>{'Gift Amount:': ' 50'}</td>\n",
       "      <td>Kindle Customer</td>\n",
       "      <td>Nice present</td>\n",
       "      <td>Five Stars</td>\n",
       "      <td>1527897600</td>\n",
       "      <td>NaN</td>\n",
       "      <td>NaN</td>\n",
       "    </tr>\n",
       "    <tr>\n",
       "      <th>3</th>\n",
       "      <td>5</td>\n",
       "      <td>True</td>\n",
       "      <td>05 19, 2018</td>\n",
       "      <td>A2HYGTHB4LJ9FW</td>\n",
       "      <td>B004LLIKVU</td>\n",
       "      <td>{'Gift Amount:': ' 50'}</td>\n",
       "      <td>Amante dei Gatti</td>\n",
       "      <td>My niece loved this birthday greeting/gift card.</td>\n",
       "      <td>Love the convenience of eCards</td>\n",
       "      <td>1526688000</td>\n",
       "      <td>NaN</td>\n",
       "      <td>NaN</td>\n",
       "    </tr>\n",
       "    <tr>\n",
       "      <th>4</th>\n",
       "      <td>5</td>\n",
       "      <td>True</td>\n",
       "      <td>05 18, 2018</td>\n",
       "      <td>ACDG3M94UMZGJ</td>\n",
       "      <td>B004LLIKVU</td>\n",
       "      <td>{'Gift Amount:': ' 50'}</td>\n",
       "      <td>Joan Freesh</td>\n",
       "      <td>fine as a gift.</td>\n",
       "      <td>Five Stars</td>\n",
       "      <td>1526601600</td>\n",
       "      <td>NaN</td>\n",
       "      <td>NaN</td>\n",
       "    </tr>\n",
       "    <tr>\n",
       "      <th>...</th>\n",
       "      <td>...</td>\n",
       "      <td>...</td>\n",
       "      <td>...</td>\n",
       "      <td>...</td>\n",
       "      <td>...</td>\n",
       "      <td>...</td>\n",
       "      <td>...</td>\n",
       "      <td>...</td>\n",
       "      <td>...</td>\n",
       "      <td>...</td>\n",
       "      <td>...</td>\n",
       "      <td>...</td>\n",
       "    </tr>\n",
       "    <tr>\n",
       "      <th>2967</th>\n",
       "      <td>5</td>\n",
       "      <td>True</td>\n",
       "      <td>07 10, 2018</td>\n",
       "      <td>A1MXZ1CW0ZVTKL</td>\n",
       "      <td>B01DWOZKSC</td>\n",
       "      <td>NaN</td>\n",
       "      <td>Steve</td>\n",
       "      <td>Not much to say, gift card is as good as cash!</td>\n",
       "      <td>gift card is as good as cash</td>\n",
       "      <td>1531180800</td>\n",
       "      <td>NaN</td>\n",
       "      <td>NaN</td>\n",
       "    </tr>\n",
       "    <tr>\n",
       "      <th>2968</th>\n",
       "      <td>4</td>\n",
       "      <td>True</td>\n",
       "      <td>06 19, 2018</td>\n",
       "      <td>A1SVYJFIASQ46Z</td>\n",
       "      <td>B01DWOZKSC</td>\n",
       "      <td>NaN</td>\n",
       "      <td>Amazon Customer</td>\n",
       "      <td>Nice gift card</td>\n",
       "      <td>Four Stars</td>\n",
       "      <td>1529366400</td>\n",
       "      <td>NaN</td>\n",
       "      <td>NaN</td>\n",
       "    </tr>\n",
       "    <tr>\n",
       "      <th>2969</th>\n",
       "      <td>5</td>\n",
       "      <td>True</td>\n",
       "      <td>06 8, 2018</td>\n",
       "      <td>A1QZ08NSDCZBA3</td>\n",
       "      <td>B01E4QS95I</td>\n",
       "      <td>NaN</td>\n",
       "      <td>Slickdome</td>\n",
       "      <td>Gift</td>\n",
       "      <td>Great Gift</td>\n",
       "      <td>1528416000</td>\n",
       "      <td>NaN</td>\n",
       "      <td>NaN</td>\n",
       "    </tr>\n",
       "    <tr>\n",
       "      <th>2970</th>\n",
       "      <td>5</td>\n",
       "      <td>True</td>\n",
       "      <td>11 10, 2017</td>\n",
       "      <td>A1L4GG3FBMIG6V</td>\n",
       "      <td>B01FERR9FW</td>\n",
       "      <td>{'Gift Amount:': ' 250'}</td>\n",
       "      <td>Amazon Customer</td>\n",
       "      <td>Pretty good!</td>\n",
       "      <td>Pretty good!</td>\n",
       "      <td>1510272000</td>\n",
       "      <td>NaN</td>\n",
       "      <td>NaN</td>\n",
       "    </tr>\n",
       "    <tr>\n",
       "      <th>2971</th>\n",
       "      <td>5</td>\n",
       "      <td>True</td>\n",
       "      <td>07 10, 2018</td>\n",
       "      <td>A1MXZ1CW0ZVTKL</td>\n",
       "      <td>B01GKWEPBG</td>\n",
       "      <td>NaN</td>\n",
       "      <td>Steve</td>\n",
       "      <td>Not much to say, gift card is as good as cash!</td>\n",
       "      <td>gift card is as good as cash</td>\n",
       "      <td>1531180800</td>\n",
       "      <td>NaN</td>\n",
       "      <td>NaN</td>\n",
       "    </tr>\n",
       "  </tbody>\n",
       "</table>\n",
       "<p>2972 rows × 12 columns</p>\n",
       "</div>"
      ],
      "text/plain": [
       "      overall  verified   reviewTime      reviewerID        asin  \\\n",
       "0           5      True  06 17, 2018  A31UBHTUUIFJUT  B004LLIKVU   \n",
       "1           4      True  06 14, 2018  A2MN5JQMIY0FQ2  B004LLIKVU   \n",
       "2           5      True   06 2, 2018  A25POI5IGGENPM  B004LLIKVU   \n",
       "3           5      True  05 19, 2018  A2HYGTHB4LJ9FW  B004LLIKVU   \n",
       "4           5      True  05 18, 2018   ACDG3M94UMZGJ  B004LLIKVU   \n",
       "...       ...       ...          ...             ...         ...   \n",
       "2967        5      True  07 10, 2018  A1MXZ1CW0ZVTKL  B01DWOZKSC   \n",
       "2968        4      True  06 19, 2018  A1SVYJFIASQ46Z  B01DWOZKSC   \n",
       "2969        5      True   06 8, 2018  A1QZ08NSDCZBA3  B01E4QS95I   \n",
       "2970        5      True  11 10, 2017  A1L4GG3FBMIG6V  B01FERR9FW   \n",
       "2971        5      True  07 10, 2018  A1MXZ1CW0ZVTKL  B01GKWEPBG   \n",
       "\n",
       "                         style      reviewerName  \\\n",
       "0      {'Gift Amount:': ' 50'}      john stoiber   \n",
       "1      {'Gift Amount:': ' 50'}   Amazon Customer   \n",
       "2      {'Gift Amount:': ' 50'}   Kindle Customer   \n",
       "3      {'Gift Amount:': ' 50'}  Amante dei Gatti   \n",
       "4      {'Gift Amount:': ' 50'}       Joan Freesh   \n",
       "...                        ...               ...   \n",
       "2967                       NaN             Steve   \n",
       "2968                       NaN   Amazon Customer   \n",
       "2969                       NaN         Slickdome   \n",
       "2970  {'Gift Amount:': ' 250'}   Amazon Customer   \n",
       "2971                       NaN             Steve   \n",
       "\n",
       "                                            reviewText  \\\n",
       "0                                  Another great gift.   \n",
       "1                            Gift card for my daughter   \n",
       "2                                         Nice present   \n",
       "3     My niece loved this birthday greeting/gift card.   \n",
       "4                                      fine as a gift.   \n",
       "...                                                ...   \n",
       "2967    Not much to say, gift card is as good as cash!   \n",
       "2968                                    Nice gift card   \n",
       "2969                                              Gift   \n",
       "2970                                      Pretty good!   \n",
       "2971    Not much to say, gift card is as good as cash!   \n",
       "\n",
       "                             summary  unixReviewTime  vote image  \n",
       "0                         Five Stars      1529193600   NaN   NaN  \n",
       "1                        Ease of use      1528934400   NaN   NaN  \n",
       "2                         Five Stars      1527897600   NaN   NaN  \n",
       "3     Love the convenience of eCards      1526688000   NaN   NaN  \n",
       "4                         Five Stars      1526601600   NaN   NaN  \n",
       "...                              ...             ...   ...   ...  \n",
       "2967    gift card is as good as cash      1531180800   NaN   NaN  \n",
       "2968                      Four Stars      1529366400   NaN   NaN  \n",
       "2969                      Great Gift      1528416000   NaN   NaN  \n",
       "2970                    Pretty good!      1510272000   NaN   NaN  \n",
       "2971    gift card is as good as cash      1531180800   NaN   NaN  \n",
       "\n",
       "[2972 rows x 12 columns]"
      ]
     },
     "execution_count": 14,
     "metadata": {},
     "output_type": "execute_result"
    }
   ],
   "source": [
    "df"
   ]
  },
  {
   "cell_type": "code",
   "execution_count": 15,
   "id": "3d7305ba",
   "metadata": {},
   "outputs": [
    {
     "name": "stdout",
     "output_type": "stream",
     "text": [
      "<class 'pandas.core.frame.DataFrame'>\n",
      "RangeIndex: 2972 entries, 0 to 2971\n",
      "Data columns (total 12 columns):\n",
      " #   Column          Non-Null Count  Dtype  \n",
      "---  ------          --------------  -----  \n",
      " 0   overall         2972 non-null   int64  \n",
      " 1   verified        2972 non-null   bool   \n",
      " 2   reviewTime      2972 non-null   object \n",
      " 3   reviewerID      2972 non-null   object \n",
      " 4   asin            2972 non-null   object \n",
      " 5   style           864 non-null    object \n",
      " 6   reviewerName    2972 non-null   object \n",
      " 7   reviewText      2966 non-null   object \n",
      " 8   summary         2972 non-null   object \n",
      " 9   unixReviewTime  2972 non-null   int64  \n",
      " 10  vote            208 non-null    float64\n",
      " 11  image           12 non-null     object \n",
      "dtypes: bool(1), float64(1), int64(2), object(8)\n",
      "memory usage: 258.4+ KB\n"
     ]
    }
   ],
   "source": [
    "df.info()"
   ]
  },
  {
   "cell_type": "code",
   "execution_count": 16,
   "id": "2ce2ec6c",
   "metadata": {},
   "outputs": [
    {
     "data": {
      "text/plain": [
       "2972"
      ]
     },
     "execution_count": 16,
     "metadata": {},
     "output_type": "execute_result"
    }
   ],
   "source": [
    "len(df)"
   ]
  },
  {
   "cell_type": "code",
   "execution_count": 17,
   "id": "100d5bca",
   "metadata": {},
   "outputs": [
    {
     "name": "stdout",
     "output_type": "stream",
     "text": [
      "(2972, 12)\n"
     ]
    }
   ],
   "source": [
    "print(df.shape)"
   ]
  },
  {
   "cell_type": "code",
   "execution_count": 18,
   "id": "ef438bc4",
   "metadata": {},
   "outputs": [
    {
     "data": {
      "text/html": [
       "<div>\n",
       "<style scoped>\n",
       "    .dataframe tbody tr th:only-of-type {\n",
       "        vertical-align: middle;\n",
       "    }\n",
       "\n",
       "    .dataframe tbody tr th {\n",
       "        vertical-align: top;\n",
       "    }\n",
       "\n",
       "    .dataframe thead th {\n",
       "        text-align: right;\n",
       "    }\n",
       "</style>\n",
       "<table border=\"1\" class=\"dataframe\">\n",
       "  <thead>\n",
       "    <tr style=\"text-align: right;\">\n",
       "      <th></th>\n",
       "      <th>overall</th>\n",
       "      <th>unixReviewTime</th>\n",
       "      <th>vote</th>\n",
       "    </tr>\n",
       "  </thead>\n",
       "  <tbody>\n",
       "    <tr>\n",
       "      <th>count</th>\n",
       "      <td>2972.000000</td>\n",
       "      <td>2.972000e+03</td>\n",
       "      <td>208.000000</td>\n",
       "    </tr>\n",
       "    <tr>\n",
       "      <th>mean</th>\n",
       "      <td>4.885262</td>\n",
       "      <td>1.476136e+09</td>\n",
       "      <td>5.158654</td>\n",
       "    </tr>\n",
       "    <tr>\n",
       "      <th>std</th>\n",
       "      <td>0.484660</td>\n",
       "      <td>3.379616e+07</td>\n",
       "      <td>7.366121</td>\n",
       "    </tr>\n",
       "    <tr>\n",
       "      <th>min</th>\n",
       "      <td>1.000000</td>\n",
       "      <td>1.327968e+09</td>\n",
       "      <td>2.000000</td>\n",
       "    </tr>\n",
       "    <tr>\n",
       "      <th>25%</th>\n",
       "      <td>5.000000</td>\n",
       "      <td>1.454890e+09</td>\n",
       "      <td>2.000000</td>\n",
       "    </tr>\n",
       "    <tr>\n",
       "      <th>50%</th>\n",
       "      <td>5.000000</td>\n",
       "      <td>1.482710e+09</td>\n",
       "      <td>3.000000</td>\n",
       "    </tr>\n",
       "    <tr>\n",
       "      <th>75%</th>\n",
       "      <td>5.000000</td>\n",
       "      <td>1.500271e+09</td>\n",
       "      <td>5.000000</td>\n",
       "    </tr>\n",
       "    <tr>\n",
       "      <th>max</th>\n",
       "      <td>5.000000</td>\n",
       "      <td>1.534896e+09</td>\n",
       "      <td>60.000000</td>\n",
       "    </tr>\n",
       "  </tbody>\n",
       "</table>\n",
       "</div>"
      ],
      "text/plain": [
       "           overall  unixReviewTime        vote\n",
       "count  2972.000000    2.972000e+03  208.000000\n",
       "mean      4.885262    1.476136e+09    5.158654\n",
       "std       0.484660    3.379616e+07    7.366121\n",
       "min       1.000000    1.327968e+09    2.000000\n",
       "25%       5.000000    1.454890e+09    2.000000\n",
       "50%       5.000000    1.482710e+09    3.000000\n",
       "75%       5.000000    1.500271e+09    5.000000\n",
       "max       5.000000    1.534896e+09   60.000000"
      ]
     },
     "execution_count": 18,
     "metadata": {},
     "output_type": "execute_result"
    }
   ],
   "source": [
    "df.describe()"
   ]
  },
  {
   "cell_type": "code",
   "execution_count": 19,
   "id": "6ca4d6c3",
   "metadata": {},
   "outputs": [
    {
     "data": {
      "text/plain": [
       "overall              0\n",
       "verified             0\n",
       "reviewTime           0\n",
       "reviewerID           0\n",
       "asin                 0\n",
       "style             2108\n",
       "reviewerName         0\n",
       "reviewText           6\n",
       "summary              0\n",
       "unixReviewTime       0\n",
       "vote              2764\n",
       "image             2960\n",
       "dtype: int64"
      ]
     },
     "execution_count": 19,
     "metadata": {},
     "output_type": "execute_result"
    }
   ],
   "source": [
    "df.isnull().sum()"
   ]
  },
  {
   "cell_type": "code",
   "execution_count": 20,
   "id": "6d558989",
   "metadata": {},
   "outputs": [],
   "source": [
    "df = df.drop(columns=['vote', 'image','unixReviewTime', 'reviewTime'])"
   ]
  },
  {
   "cell_type": "code",
   "execution_count": 21,
   "id": "03537789",
   "metadata": {},
   "outputs": [
    {
     "name": "stdout",
     "output_type": "stream",
     "text": [
      "(2972, 8)\n"
     ]
    }
   ],
   "source": [
    "print(df.shape)"
   ]
  },
  {
   "cell_type": "code",
   "execution_count": 22,
   "id": "c6017c53",
   "metadata": {},
   "outputs": [
    {
     "name": "stdout",
     "output_type": "stream",
     "text": [
      "Unique REVIEWERS in the column: 458\n"
     ]
    }
   ],
   "source": [
    "print(\"Unique REVIEWERS in the column:\", df['reviewerID'].nunique())"
   ]
  },
  {
   "cell_type": "code",
   "execution_count": 23,
   "id": "1ea3d0ea",
   "metadata": {},
   "outputs": [
    {
     "name": "stdout",
     "output_type": "stream",
     "text": [
      "A1U1G73EI5IRZF    32\n",
      "A13H0YP0J8PM6V    28\n",
      "A3OHGWD8LIDZ8K    22\n",
      "A2RTTRR421J9KG    19\n",
      "A1SVYJFIASQ46Z    19\n",
      "                  ..\n",
      "ASJ7USDIR4PL0      5\n",
      "A3OZ1Q3VI8H8EO     5\n",
      "AIG7PZQOVH31T      5\n",
      "A2M5PNYYFWSJMD     5\n",
      "A2RV5MAIOHKMW0     5\n",
      "Name: reviewerID, Length: 458, dtype: int64\n"
     ]
    }
   ],
   "source": [
    "reviews_per_user = df['reviewerID'].value_counts()\n",
    "print(reviews_per_user)"
   ]
  },
  {
   "cell_type": "code",
   "execution_count": 24,
   "id": "2675a1d5",
   "metadata": {},
   "outputs": [
    {
     "data": {
      "image/png": "[encoded data removed]",
      "text/plain": [
       "<Figure size 1000x600 with 1 Axes>"
      ]
     },
     "metadata": {},
     "output_type": "display_data"
    }
   ],
   "source": [
    "#Distribution 0f USER REVIEWS \n",
    "plt.figure(figsize=(10, 6))\n",
    "sns.histplot(reviews_per_user, bins=20, kde=True)\n",
    "plt.title('Distribution of User Reviews')\n",
    "plt.xlabel('Number of Reviews')\n",
    "plt.ylabel('Number of Users')\n",
    "plt.show()\n"
   ]
  },
  {
   "cell_type": "code",
   "execution_count": 32,
   "id": "97c431dc",
   "metadata": {},
   "outputs": [
    {
     "data": {
      "text/plain": [
       "5    2752\n",
       "4     154\n",
       "3      33\n",
       "1      22\n",
       "2      11\n",
       "Name: overall, dtype: int64"
      ]
     },
     "execution_count": 32,
     "metadata": {},
     "output_type": "execute_result"
    }
   ],
   "source": [
    "df['overall'].value_counts()\n"
   ]
  },
  {
   "cell_type": "code",
   "execution_count": 33,
   "id": "dd2146e0",
   "metadata": {},
   "outputs": [
    {
     "data": {
      "image/png": "[encoded data removed]",
      "text/plain": [
       "<Figure size 1000x500 with 1 Axes>"
      ]
     },
     "metadata": {},
     "output_type": "display_data"
    }
   ],
   "source": [
    "plt.figure(figsize=(10, 5))\n",
    "sns.histplot(x=df['overall'])\n",
    "plt.title(\"Distribution of Ratings\")\n",
    "plt.xlabel(\"Rating\")\n",
    "plt.show()"
   ]
  },
  {
   "cell_type": "code",
   "execution_count": 34,
   "id": "b2232c23",
   "metadata": {
    "scrolled": true
   },
   "outputs": [
    {
     "name": "stdout",
     "output_type": "stream",
     "text": [
      "Unique PRODUCTS in the column: 148\n"
     ]
    }
   ],
   "source": [
    "print(\"Unique PRODUCTS in the column:\", df['asin'].nunique())"
   ]
  },
  {
   "cell_type": "code",
   "execution_count": 35,
   "id": "6e136bd7",
   "metadata": {},
   "outputs": [
    {
     "name": "stdout",
     "output_type": "stream",
     "text": [
      "Unique REVIEWERS in the column: 429\n"
     ]
    }
   ],
   "source": [
    "print(\"Unique REVIEWERS in the column:\", df['reviewerName'].nunique())"
   ]
  },
  {
   "cell_type": "code",
   "execution_count": 31,
   "id": "39992881",
   "metadata": {},
   "outputs": [
    {
     "data": {
      "text/html": [
       "<div>\n",
       "<style scoped>\n",
       "    .dataframe tbody tr th:only-of-type {\n",
       "        vertical-align: middle;\n",
       "    }\n",
       "\n",
       "    .dataframe tbody tr th {\n",
       "        vertical-align: top;\n",
       "    }\n",
       "\n",
       "    .dataframe thead th {\n",
       "        text-align: right;\n",
       "    }\n",
       "</style>\n",
       "<table border=\"1\" class=\"dataframe\">\n",
       "  <thead>\n",
       "    <tr style=\"text-align: right;\">\n",
       "      <th></th>\n",
       "      <th>overall</th>\n",
       "      <th>verified</th>\n",
       "      <th>reviewerID</th>\n",
       "      <th>asin</th>\n",
       "      <th>style</th>\n",
       "      <th>reviewerName</th>\n",
       "      <th>reviewText</th>\n",
       "      <th>summary</th>\n",
       "    </tr>\n",
       "  </thead>\n",
       "  <tbody>\n",
       "    <tr>\n",
       "      <th>0</th>\n",
       "      <td>5</td>\n",
       "      <td>True</td>\n",
       "      <td>A31UBHTUUIFJUT</td>\n",
       "      <td>B004LLIKVU</td>\n",
       "      <td>{'Gift Amount:': ' 50'}</td>\n",
       "      <td>john stoiber</td>\n",
       "      <td>Another great gift.</td>\n",
       "      <td>Five Stars</td>\n",
       "    </tr>\n",
       "    <tr>\n",
       "      <th>1</th>\n",
       "      <td>4</td>\n",
       "      <td>True</td>\n",
       "      <td>A2MN5JQMIY0FQ2</td>\n",
       "      <td>B004LLIKVU</td>\n",
       "      <td>{'Gift Amount:': ' 50'}</td>\n",
       "      <td>Amazon Customer</td>\n",
       "      <td>Gift card for my daughter</td>\n",
       "      <td>Ease of use</td>\n",
       "    </tr>\n",
       "    <tr>\n",
       "      <th>2</th>\n",
       "      <td>5</td>\n",
       "      <td>True</td>\n",
       "      <td>A25POI5IGGENPM</td>\n",
       "      <td>B004LLIKVU</td>\n",
       "      <td>{'Gift Amount:': ' 50'}</td>\n",
       "      <td>Kindle Customer</td>\n",
       "      <td>Nice present</td>\n",
       "      <td>Five Stars</td>\n",
       "    </tr>\n",
       "    <tr>\n",
       "      <th>3</th>\n",
       "      <td>5</td>\n",
       "      <td>True</td>\n",
       "      <td>A2HYGTHB4LJ9FW</td>\n",
       "      <td>B004LLIKVU</td>\n",
       "      <td>{'Gift Amount:': ' 50'}</td>\n",
       "      <td>Amante dei Gatti</td>\n",
       "      <td>My niece loved this birthday greeting/gift card.</td>\n",
       "      <td>Love the convenience of eCards</td>\n",
       "    </tr>\n",
       "    <tr>\n",
       "      <th>4</th>\n",
       "      <td>5</td>\n",
       "      <td>True</td>\n",
       "      <td>ACDG3M94UMZGJ</td>\n",
       "      <td>B004LLIKVU</td>\n",
       "      <td>{'Gift Amount:': ' 50'}</td>\n",
       "      <td>Joan Freesh</td>\n",
       "      <td>fine as a gift.</td>\n",
       "      <td>Five Stars</td>\n",
       "    </tr>\n",
       "    <tr>\n",
       "      <th>...</th>\n",
       "      <td>...</td>\n",
       "      <td>...</td>\n",
       "      <td>...</td>\n",
       "      <td>...</td>\n",
       "      <td>...</td>\n",
       "      <td>...</td>\n",
       "      <td>...</td>\n",
       "      <td>...</td>\n",
       "    </tr>\n",
       "    <tr>\n",
       "      <th>2967</th>\n",
       "      <td>5</td>\n",
       "      <td>True</td>\n",
       "      <td>A1MXZ1CW0ZVTKL</td>\n",
       "      <td>B01DWOZKSC</td>\n",
       "      <td>NaN</td>\n",
       "      <td>Steve</td>\n",
       "      <td>Not much to say, gift card is as good as cash!</td>\n",
       "      <td>gift card is as good as cash</td>\n",
       "    </tr>\n",
       "    <tr>\n",
       "      <th>2968</th>\n",
       "      <td>4</td>\n",
       "      <td>True</td>\n",
       "      <td>A1SVYJFIASQ46Z</td>\n",
       "      <td>B01DWOZKSC</td>\n",
       "      <td>NaN</td>\n",
       "      <td>Amazon Customer</td>\n",
       "      <td>Nice gift card</td>\n",
       "      <td>Four Stars</td>\n",
       "    </tr>\n",
       "    <tr>\n",
       "      <th>2969</th>\n",
       "      <td>5</td>\n",
       "      <td>True</td>\n",
       "      <td>A1QZ08NSDCZBA3</td>\n",
       "      <td>B01E4QS95I</td>\n",
       "      <td>NaN</td>\n",
       "      <td>Slickdome</td>\n",
       "      <td>Gift</td>\n",
       "      <td>Great Gift</td>\n",
       "    </tr>\n",
       "    <tr>\n",
       "      <th>2970</th>\n",
       "      <td>5</td>\n",
       "      <td>True</td>\n",
       "      <td>A1L4GG3FBMIG6V</td>\n",
       "      <td>B01FERR9FW</td>\n",
       "      <td>{'Gift Amount:': ' 250'}</td>\n",
       "      <td>Amazon Customer</td>\n",
       "      <td>Pretty good!</td>\n",
       "      <td>Pretty good!</td>\n",
       "    </tr>\n",
       "    <tr>\n",
       "      <th>2971</th>\n",
       "      <td>5</td>\n",
       "      <td>True</td>\n",
       "      <td>A1MXZ1CW0ZVTKL</td>\n",
       "      <td>B01GKWEPBG</td>\n",
       "      <td>NaN</td>\n",
       "      <td>Steve</td>\n",
       "      <td>Not much to say, gift card is as good as cash!</td>\n",
       "      <td>gift card is as good as cash</td>\n",
       "    </tr>\n",
       "  </tbody>\n",
       "</table>\n",
       "<p>2972 rows × 8 columns</p>\n",
       "</div>"
      ],
      "text/plain": [
       "      overall  verified      reviewerID        asin                     style  \\\n",
       "0           5      True  A31UBHTUUIFJUT  B004LLIKVU   {'Gift Amount:': ' 50'}   \n",
       "1           4      True  A2MN5JQMIY0FQ2  B004LLIKVU   {'Gift Amount:': ' 50'}   \n",
       "2           5      True  A25POI5IGGENPM  B004LLIKVU   {'Gift Amount:': ' 50'}   \n",
       "3           5      True  A2HYGTHB4LJ9FW  B004LLIKVU   {'Gift Amount:': ' 50'}   \n",
       "4           5      True   ACDG3M94UMZGJ  B004LLIKVU   {'Gift Amount:': ' 50'}   \n",
       "...       ...       ...             ...         ...                       ...   \n",
       "2967        5      True  A1MXZ1CW0ZVTKL  B01DWOZKSC                       NaN   \n",
       "2968        4      True  A1SVYJFIASQ46Z  B01DWOZKSC                       NaN   \n",
       "2969        5      True  A1QZ08NSDCZBA3  B01E4QS95I                       NaN   \n",
       "2970        5      True  A1L4GG3FBMIG6V  B01FERR9FW  {'Gift Amount:': ' 250'}   \n",
       "2971        5      True  A1MXZ1CW0ZVTKL  B01GKWEPBG                       NaN   \n",
       "\n",
       "          reviewerName                                        reviewText  \\\n",
       "0         john stoiber                               Another great gift.   \n",
       "1      Amazon Customer                         Gift card for my daughter   \n",
       "2      Kindle Customer                                      Nice present   \n",
       "3     Amante dei Gatti  My niece loved this birthday greeting/gift card.   \n",
       "4          Joan Freesh                                   fine as a gift.   \n",
       "...                ...                                               ...   \n",
       "2967             Steve    Not much to say, gift card is as good as cash!   \n",
       "2968   Amazon Customer                                    Nice gift card   \n",
       "2969         Slickdome                                              Gift   \n",
       "2970   Amazon Customer                                      Pretty good!   \n",
       "2971             Steve    Not much to say, gift card is as good as cash!   \n",
       "\n",
       "                             summary  \n",
       "0                         Five Stars  \n",
       "1                        Ease of use  \n",
       "2                         Five Stars  \n",
       "3     Love the convenience of eCards  \n",
       "4                         Five Stars  \n",
       "...                              ...  \n",
       "2967    gift card is as good as cash  \n",
       "2968                      Four Stars  \n",
       "2969                      Great Gift  \n",
       "2970                    Pretty good!  \n",
       "2971    gift card is as good as cash  \n",
       "\n",
       "[2972 rows x 8 columns]"
      ]
     },
     "execution_count": 31,
     "metadata": {},
     "output_type": "execute_result"
    }
   ],
   "source": [
    "df"
   ]
  },
  {
   "cell_type": "code",
   "execution_count": 36,
   "id": "3ae6141d",
   "metadata": {},
   "outputs": [
    {
     "data": {
      "text/plain": [
       "B00AR51Y5I    94\n",
       "B004Q7CK9M    88\n",
       "B0091JKVU0    84\n",
       "B00BXLW5QC    79\n",
       "B0091JKY0M    73\n",
       "              ..\n",
       "B016J1LGPG     5\n",
       "B01CT5PHJ2     5\n",
       "B00BXLSPGQ     5\n",
       "B0188LOK7G     5\n",
       "B01B25LU7S     4\n",
       "Name: asin, Length: 148, dtype: int64"
      ]
     },
     "execution_count": 36,
     "metadata": {},
     "output_type": "execute_result"
    }
   ],
   "source": [
    "df['asin'].value_counts()"
   ]
  },
  {
   "cell_type": "code",
   "execution_count": 40,
   "id": "6f24ca48",
   "metadata": {},
   "outputs": [
    {
     "name": "stdout",
     "output_type": "stream",
     "text": [
      "Number of duplicate rows: overall         1\n",
      "verified        1\n",
      "reviewerID      1\n",
      "asin            1\n",
      "style           1\n",
      "reviewerName    1\n",
      "reviewText      1\n",
      "summary         1\n",
      "dtype: int64\n"
     ]
    }
   ],
   "source": [
    "# g. Check for duplicates\n",
    "\n",
    "# Define the columns that uniquely identify a review\n",
    "unique_cols = ['reviewerID', 'asin','reviewText','reviewerName']\n",
    "\n",
    "# Find duplicates based on these unique columns. `keep=False` marks all duplicates as True.\n",
    "duplicates = df[df.duplicated(subset=unique_cols)]\n",
    "\n",
    "# Count the number of duplicates\n",
    "num_duplicates = duplicates.count()\n",
    "\n",
    "# Print the number of duplicates\n",
    "print(f\"Number of duplicate rows: {num_duplicates}\")"
   ]
  },
  {
   "cell_type": "code",
   "execution_count": 39,
   "id": "7dcdce67",
   "metadata": {},
   "outputs": [
    {
     "name": "stdout",
     "output_type": "stream",
     "text": [
      "79    A2WCRWBZJETE17\n",
      "Name: reviewerID, dtype: object\n",
      "79    B004Q7CK9M\n",
      "Name: asin, dtype: object\n",
      "79    Good gift for anyone\n",
      "Name: reviewText, dtype: object\n"
     ]
    }
   ],
   "source": [
    "print(duplicates['reviewerID'])\n",
    "print(duplicates['asin'])\n",
    "print(duplicates['reviewText'])"
   ]
  },
  {
   "cell_type": "code",
   "execution_count": 41,
   "id": "84fc9247",
   "metadata": {},
   "outputs": [
    {
     "data": {
      "text/html": [
       "<div>\n",
       "<style scoped>\n",
       "    .dataframe tbody tr th:only-of-type {\n",
       "        vertical-align: middle;\n",
       "    }\n",
       "\n",
       "    .dataframe tbody tr th {\n",
       "        vertical-align: top;\n",
       "    }\n",
       "\n",
       "    .dataframe thead th {\n",
       "        text-align: right;\n",
       "    }\n",
       "</style>\n",
       "<table border=\"1\" class=\"dataframe\">\n",
       "  <thead>\n",
       "    <tr style=\"text-align: right;\">\n",
       "      <th></th>\n",
       "      <th>overall</th>\n",
       "      <th>verified</th>\n",
       "      <th>reviewerID</th>\n",
       "      <th>asin</th>\n",
       "      <th>style</th>\n",
       "      <th>reviewerName</th>\n",
       "      <th>reviewText</th>\n",
       "      <th>summary</th>\n",
       "    </tr>\n",
       "  </thead>\n",
       "  <tbody>\n",
       "    <tr>\n",
       "      <th>40</th>\n",
       "      <td>5</td>\n",
       "      <td>True</td>\n",
       "      <td>A2WCRWBZJETE17</td>\n",
       "      <td>B004Q7CK9M</td>\n",
       "      <td>{'Gift Amount:': ' 50'}</td>\n",
       "      <td>Jeff Quade</td>\n",
       "      <td>Good gift for anyone</td>\n",
       "      <td>five stars</td>\n",
       "    </tr>\n",
       "    <tr>\n",
       "      <th>79</th>\n",
       "      <td>5</td>\n",
       "      <td>True</td>\n",
       "      <td>A2WCRWBZJETE17</td>\n",
       "      <td>B004Q7CK9M</td>\n",
       "      <td>{'Gift Amount:': ' 50'}</td>\n",
       "      <td>Jeff Quade</td>\n",
       "      <td>Good gift for anyone</td>\n",
       "      <td>Five Stars</td>\n",
       "    </tr>\n",
       "  </tbody>\n",
       "</table>\n",
       "</div>"
      ],
      "text/plain": [
       "    overall  verified      reviewerID        asin                    style  \\\n",
       "40        5      True  A2WCRWBZJETE17  B004Q7CK9M  {'Gift Amount:': ' 50'}   \n",
       "79        5      True  A2WCRWBZJETE17  B004Q7CK9M  {'Gift Amount:': ' 50'}   \n",
       "\n",
       "   reviewerName            reviewText     summary  \n",
       "40   Jeff Quade  Good gift for anyone  five stars  \n",
       "79   Jeff Quade  Good gift for anyone  Five Stars  "
      ]
     },
     "execution_count": 41,
     "metadata": {},
     "output_type": "execute_result"
    }
   ],
   "source": [
    "df[(df['reviewerID']=='A2WCRWBZJETE17')&(df['asin']=='B004Q7CK9M')&(df['reviewText']=='Good gift for anyone')]"
   ]
  },
  {
   "cell_type": "markdown",
   "id": "cc5387b7",
   "metadata": {},
   "source": [
    "# 2. Pre-processing"
   ]
  },
  {
   "cell_type": "code",
   "execution_count": 42,
   "id": "b399ccff",
   "metadata": {},
   "outputs": [],
   "source": [
    "#a. Label your data based on the value of “rating of the product”\n",
    "def label_sentiment(rating):\n",
    "    if rating >= 4:\n",
    "        return 'Positive'\n",
    "    elif rating == 3:\n",
    "        return 'Neutral'\n",
    "    else:\n",
    "        return 'Negative'\n",
    "\n",
    "df['sentiment'] = df['overall'].apply(label_sentiment)"
   ]
  },
  {
   "cell_type": "code",
   "execution_count": 43,
   "id": "d2e352f9",
   "metadata": {},
   "outputs": [
    {
     "data": {
      "text/plain": [
       "0       Positive\n",
       "1       Positive\n",
       "2       Positive\n",
       "3       Positive\n",
       "4       Positive\n",
       "          ...   \n",
       "2967    Positive\n",
       "2968    Positive\n",
       "2969    Positive\n",
       "2970    Positive\n",
       "2971    Positive\n",
       "Name: sentiment, Length: 2972, dtype: object"
      ]
     },
     "execution_count": 43,
     "metadata": {},
     "output_type": "execute_result"
    }
   ],
   "source": [
    "df['sentiment']"
   ]
  },
  {
   "cell_type": "code",
   "execution_count": 44,
   "id": "4210c08f",
   "metadata": {},
   "outputs": [
    {
     "name": "stdout",
     "output_type": "stream",
     "text": [
      "Positive    2906\n",
      "Negative      33\n",
      "Neutral       33\n",
      "Name: sentiment, dtype: int64\n"
     ]
    }
   ],
   "source": [
    "sentiment_counts = df['sentiment'].value_counts()\n",
    "print(sentiment_counts)"
   ]
  },
  {
   "cell_type": "code",
   "execution_count": 45,
   "id": "ecc63d3f",
   "metadata": {},
   "outputs": [
    {
     "data": {
      "image/png": "[encoded data removed]",
      "text/plain": [
       "<Figure size 640x480 with 1 Axes>"
      ]
     },
     "metadata": {},
     "output_type": "display_data"
    }
   ],
   "source": [
    "sns.histplot(data=df, x='sentiment', hue='sentiment', palette=['green', 'blue', 'red'], shrink=0.8, legend=False)\n",
    "\n",
    "plt.title(\"Distribution of Sentiment\")\n",
    "plt.xlabel(\"Sentiment\")\n",
    "plt.ylabel(\"Count\")\n",
    "plt.show()"
   ]
  },
  {
   "cell_type": "code",
   "execution_count": 46,
   "id": "c9593d6d",
   "metadata": {},
   "outputs": [
    {
     "data": {
      "text/html": [
       "<div>\n",
       "<style scoped>\n",
       "    .dataframe tbody tr th:only-of-type {\n",
       "        vertical-align: middle;\n",
       "    }\n",
       "\n",
       "    .dataframe tbody tr th {\n",
       "        vertical-align: top;\n",
       "    }\n",
       "\n",
       "    .dataframe thead th {\n",
       "        text-align: right;\n",
       "    }\n",
       "</style>\n",
       "<table border=\"1\" class=\"dataframe\">\n",
       "  <thead>\n",
       "    <tr style=\"text-align: right;\">\n",
       "      <th></th>\n",
       "      <th>overall</th>\n",
       "      <th>verified</th>\n",
       "      <th>reviewerID</th>\n",
       "      <th>asin</th>\n",
       "      <th>reviewerName</th>\n",
       "      <th>reviewText</th>\n",
       "      <th>summary</th>\n",
       "      <th>sentiment</th>\n",
       "      <th>price</th>\n",
       "    </tr>\n",
       "  </thead>\n",
       "  <tbody>\n",
       "    <tr>\n",
       "      <th>0</th>\n",
       "      <td>5</td>\n",
       "      <td>True</td>\n",
       "      <td>A31UBHTUUIFJUT</td>\n",
       "      <td>B004LLIKVU</td>\n",
       "      <td>john stoiber</td>\n",
       "      <td>Another great gift.</td>\n",
       "      <td>Five Stars</td>\n",
       "      <td>Positive</td>\n",
       "      <td>50</td>\n",
       "    </tr>\n",
       "    <tr>\n",
       "      <th>1</th>\n",
       "      <td>4</td>\n",
       "      <td>True</td>\n",
       "      <td>A2MN5JQMIY0FQ2</td>\n",
       "      <td>B004LLIKVU</td>\n",
       "      <td>Amazon Customer</td>\n",
       "      <td>Gift card for my daughter</td>\n",
       "      <td>Ease of use</td>\n",
       "      <td>Positive</td>\n",
       "      <td>50</td>\n",
       "    </tr>\n",
       "    <tr>\n",
       "      <th>2</th>\n",
       "      <td>5</td>\n",
       "      <td>True</td>\n",
       "      <td>A25POI5IGGENPM</td>\n",
       "      <td>B004LLIKVU</td>\n",
       "      <td>Kindle Customer</td>\n",
       "      <td>Nice present</td>\n",
       "      <td>Five Stars</td>\n",
       "      <td>Positive</td>\n",
       "      <td>50</td>\n",
       "    </tr>\n",
       "    <tr>\n",
       "      <th>3</th>\n",
       "      <td>5</td>\n",
       "      <td>True</td>\n",
       "      <td>A2HYGTHB4LJ9FW</td>\n",
       "      <td>B004LLIKVU</td>\n",
       "      <td>Amante dei Gatti</td>\n",
       "      <td>My niece loved this birthday greeting/gift card.</td>\n",
       "      <td>Love the convenience of eCards</td>\n",
       "      <td>Positive</td>\n",
       "      <td>50</td>\n",
       "    </tr>\n",
       "    <tr>\n",
       "      <th>4</th>\n",
       "      <td>5</td>\n",
       "      <td>True</td>\n",
       "      <td>ACDG3M94UMZGJ</td>\n",
       "      <td>B004LLIKVU</td>\n",
       "      <td>Joan Freesh</td>\n",
       "      <td>fine as a gift.</td>\n",
       "      <td>Five Stars</td>\n",
       "      <td>Positive</td>\n",
       "      <td>50</td>\n",
       "    </tr>\n",
       "    <tr>\n",
       "      <th>...</th>\n",
       "      <td>...</td>\n",
       "      <td>...</td>\n",
       "      <td>...</td>\n",
       "      <td>...</td>\n",
       "      <td>...</td>\n",
       "      <td>...</td>\n",
       "      <td>...</td>\n",
       "      <td>...</td>\n",
       "      <td>...</td>\n",
       "    </tr>\n",
       "    <tr>\n",
       "      <th>2967</th>\n",
       "      <td>5</td>\n",
       "      <td>True</td>\n",
       "      <td>A1MXZ1CW0ZVTKL</td>\n",
       "      <td>B01DWOZKSC</td>\n",
       "      <td>Steve</td>\n",
       "      <td>Not much to say, gift card is as good as cash!</td>\n",
       "      <td>gift card is as good as cash</td>\n",
       "      <td>Positive</td>\n",
       "      <td>0</td>\n",
       "    </tr>\n",
       "    <tr>\n",
       "      <th>2968</th>\n",
       "      <td>4</td>\n",
       "      <td>True</td>\n",
       "      <td>A1SVYJFIASQ46Z</td>\n",
       "      <td>B01DWOZKSC</td>\n",
       "      <td>Amazon Customer</td>\n",
       "      <td>Nice gift card</td>\n",
       "      <td>Four Stars</td>\n",
       "      <td>Positive</td>\n",
       "      <td>0</td>\n",
       "    </tr>\n",
       "    <tr>\n",
       "      <th>2969</th>\n",
       "      <td>5</td>\n",
       "      <td>True</td>\n",
       "      <td>A1QZ08NSDCZBA3</td>\n",
       "      <td>B01E4QS95I</td>\n",
       "      <td>Slickdome</td>\n",
       "      <td>Gift</td>\n",
       "      <td>Great Gift</td>\n",
       "      <td>Positive</td>\n",
       "      <td>0</td>\n",
       "    </tr>\n",
       "    <tr>\n",
       "      <th>2970</th>\n",
       "      <td>5</td>\n",
       "      <td>True</td>\n",
       "      <td>A1L4GG3FBMIG6V</td>\n",
       "      <td>B01FERR9FW</td>\n",
       "      <td>Amazon Customer</td>\n",
       "      <td>Pretty good!</td>\n",
       "      <td>Pretty good!</td>\n",
       "      <td>Positive</td>\n",
       "      <td>250</td>\n",
       "    </tr>\n",
       "    <tr>\n",
       "      <th>2971</th>\n",
       "      <td>5</td>\n",
       "      <td>True</td>\n",
       "      <td>A1MXZ1CW0ZVTKL</td>\n",
       "      <td>B01GKWEPBG</td>\n",
       "      <td>Steve</td>\n",
       "      <td>Not much to say, gift card is as good as cash!</td>\n",
       "      <td>gift card is as good as cash</td>\n",
       "      <td>Positive</td>\n",
       "      <td>0</td>\n",
       "    </tr>\n",
       "  </tbody>\n",
       "</table>\n",
       "<p>2972 rows × 9 columns</p>\n",
       "</div>"
      ],
      "text/plain": [
       "      overall  verified      reviewerID        asin      reviewerName  \\\n",
       "0           5      True  A31UBHTUUIFJUT  B004LLIKVU      john stoiber   \n",
       "1           4      True  A2MN5JQMIY0FQ2  B004LLIKVU   Amazon Customer   \n",
       "2           5      True  A25POI5IGGENPM  B004LLIKVU   Kindle Customer   \n",
       "3           5      True  A2HYGTHB4LJ9FW  B004LLIKVU  Amante dei Gatti   \n",
       "4           5      True   ACDG3M94UMZGJ  B004LLIKVU       Joan Freesh   \n",
       "...       ...       ...             ...         ...               ...   \n",
       "2967        5      True  A1MXZ1CW0ZVTKL  B01DWOZKSC             Steve   \n",
       "2968        4      True  A1SVYJFIASQ46Z  B01DWOZKSC   Amazon Customer   \n",
       "2969        5      True  A1QZ08NSDCZBA3  B01E4QS95I         Slickdome   \n",
       "2970        5      True  A1L4GG3FBMIG6V  B01FERR9FW   Amazon Customer   \n",
       "2971        5      True  A1MXZ1CW0ZVTKL  B01GKWEPBG             Steve   \n",
       "\n",
       "                                            reviewText  \\\n",
       "0                                  Another great gift.   \n",
       "1                            Gift card for my daughter   \n",
       "2                                         Nice present   \n",
       "3     My niece loved this birthday greeting/gift card.   \n",
       "4                                      fine as a gift.   \n",
       "...                                                ...   \n",
       "2967    Not much to say, gift card is as good as cash!   \n",
       "2968                                    Nice gift card   \n",
       "2969                                              Gift   \n",
       "2970                                      Pretty good!   \n",
       "2971    Not much to say, gift card is as good as cash!   \n",
       "\n",
       "                             summary sentiment  price  \n",
       "0                         Five Stars  Positive     50  \n",
       "1                        Ease of use  Positive     50  \n",
       "2                         Five Stars  Positive     50  \n",
       "3     Love the convenience of eCards  Positive     50  \n",
       "4                         Five Stars  Positive     50  \n",
       "...                              ...       ...    ...  \n",
       "2967    gift card is as good as cash  Positive      0  \n",
       "2968                      Four Stars  Positive      0  \n",
       "2969                      Great Gift  Positive      0  \n",
       "2970                    Pretty good!  Positive    250  \n",
       "2971    gift card is as good as cash  Positive      0  \n",
       "\n",
       "[2972 rows x 9 columns]"
      ]
     },
     "execution_count": 46,
     "metadata": {},
     "output_type": "execute_result"
    }
   ],
   "source": [
    "# Create a new column \"price\"\n",
    "df['price'] = df['style'].apply(lambda x: int(x.get('Gift Amount:', 0)) if isinstance(x, dict) else 0)\n",
    "# Then now we can drop style column\n",
    "df = df.drop(columns='style')\n",
    "df"
   ]
  },
  {
   "cell_type": "code",
   "execution_count": 49,
   "id": "226a43c8",
   "metadata": {},
   "outputs": [
    {
     "data": {
      "text/plain": [
       "0      2242\n",
       "50      315\n",
       "25      194\n",
       "100      77\n",
       "75       46\n",
       "20       21\n",
       "15       14\n",
       "200      14\n",
       "150      14\n",
       "10       12\n",
       "30       10\n",
       "40        6\n",
       "35        3\n",
       "60        1\n",
       "300       1\n",
       "350       1\n",
       "250       1\n",
       "Name: price, dtype: int64"
      ]
     },
     "execution_count": 49,
     "metadata": {},
     "output_type": "execute_result"
    }
   ],
   "source": [
    "df['price'].value_counts()"
   ]
  },
  {
   "cell_type": "code",
   "execution_count": 50,
   "id": "825ebf04",
   "metadata": {},
   "outputs": [
    {
     "data": {
      "text/plain": [
       "B00AR51Y5I    94\n",
       "B004Q7CK9M    88\n",
       "B0091JKVU0    84\n",
       "B00BXLW5QC    79\n",
       "B0091JKY0M    73\n",
       "              ..\n",
       "B016J1LGPG     5\n",
       "B01CT5PHJ2     5\n",
       "B00BXLSPGQ     5\n",
       "B0188LOK7G     5\n",
       "B01B25LU7S     4\n",
       "Name: asin, Length: 148, dtype: int64"
      ]
     },
     "execution_count": 50,
     "metadata": {},
     "output_type": "execute_result"
    }
   ],
   "source": [
    "df['asin'].value_counts()"
   ]
  },
  {
   "cell_type": "code",
   "execution_count": 51,
   "id": "6a82a24b",
   "metadata": {},
   "outputs": [],
   "source": [
    "df['review_length'] = df['reviewText'].apply(lambda x: len(str(x)))"
   ]
  },
  {
   "cell_type": "code",
   "execution_count": 52,
   "id": "2057830d",
   "metadata": {},
   "outputs": [
    {
     "data": {
      "image/png": "[encoded data removed]",
      "text/plain": [
       "<Figure size 1000x600 with 1 Axes>"
      ]
     },
     "metadata": {},
     "output_type": "display_data"
    }
   ],
   "source": [
    "plt.figure(figsize=(10, 6))\n",
    "sns.boxplot(x='overall', y='review_length', data=df, hue=\"overall\", palette =['red','blue','pink','yellow','green'])\n",
    "plt.title(\"Review Lengths by Rating\")\n",
    "plt.xlabel(\"Rating\")\n",
    "plt.ylabel(\"Review Length\")\n",
    "plt.show()"
   ]
  },
  {
   "cell_type": "code",
   "execution_count": 53,
   "id": "d65b993a",
   "metadata": {},
   "outputs": [
    {
     "name": "stdout",
     "output_type": "stream",
     "text": [
      "count    2972.000000\n",
      "mean       67.337147\n",
      "std       131.020103\n",
      "min         2.000000\n",
      "25%        12.000000\n",
      "50%        29.000000\n",
      "75%        72.000000\n",
      "max      2409.000000\n",
      "Name: review_length, dtype: float64\n"
     ]
    }
   ],
   "source": [
    "review_length_stats = df['review_length'].describe()\n",
    "print(review_length_stats)"
   ]
  },
  {
   "cell_type": "code",
   "execution_count": 54,
   "id": "e644e730",
   "metadata": {},
   "outputs": [
    {
     "data": {
      "text/html": [
       "<div>\n",
       "<style scoped>\n",
       "    .dataframe tbody tr th:only-of-type {\n",
       "        vertical-align: middle;\n",
       "    }\n",
       "\n",
       "    .dataframe tbody tr th {\n",
       "        vertical-align: top;\n",
       "    }\n",
       "\n",
       "    .dataframe thead th {\n",
       "        text-align: right;\n",
       "    }\n",
       "</style>\n",
       "<table border=\"1\" class=\"dataframe\">\n",
       "  <thead>\n",
       "    <tr style=\"text-align: right;\">\n",
       "      <th></th>\n",
       "      <th>overall</th>\n",
       "      <th>verified</th>\n",
       "      <th>reviewerID</th>\n",
       "      <th>asin</th>\n",
       "      <th>reviewerName</th>\n",
       "      <th>reviewText</th>\n",
       "      <th>summary</th>\n",
       "      <th>sentiment</th>\n",
       "      <th>price</th>\n",
       "      <th>review_length</th>\n",
       "    </tr>\n",
       "  </thead>\n",
       "  <tbody>\n",
       "    <tr>\n",
       "      <th>0</th>\n",
       "      <td>5</td>\n",
       "      <td>True</td>\n",
       "      <td>A31UBHTUUIFJUT</td>\n",
       "      <td>B004LLIKVU</td>\n",
       "      <td>john stoiber</td>\n",
       "      <td>Another great gift.</td>\n",
       "      <td>Five Stars</td>\n",
       "      <td>Positive</td>\n",
       "      <td>50</td>\n",
       "      <td>19</td>\n",
       "    </tr>\n",
       "    <tr>\n",
       "      <th>1</th>\n",
       "      <td>4</td>\n",
       "      <td>True</td>\n",
       "      <td>A2MN5JQMIY0FQ2</td>\n",
       "      <td>B004LLIKVU</td>\n",
       "      <td>Amazon Customer</td>\n",
       "      <td>Gift card for my daughter</td>\n",
       "      <td>Ease of use</td>\n",
       "      <td>Positive</td>\n",
       "      <td>50</td>\n",
       "      <td>25</td>\n",
       "    </tr>\n",
       "    <tr>\n",
       "      <th>2</th>\n",
       "      <td>5</td>\n",
       "      <td>True</td>\n",
       "      <td>A25POI5IGGENPM</td>\n",
       "      <td>B004LLIKVU</td>\n",
       "      <td>Kindle Customer</td>\n",
       "      <td>Nice present</td>\n",
       "      <td>Five Stars</td>\n",
       "      <td>Positive</td>\n",
       "      <td>50</td>\n",
       "      <td>12</td>\n",
       "    </tr>\n",
       "    <tr>\n",
       "      <th>3</th>\n",
       "      <td>5</td>\n",
       "      <td>True</td>\n",
       "      <td>A2HYGTHB4LJ9FW</td>\n",
       "      <td>B004LLIKVU</td>\n",
       "      <td>Amante dei Gatti</td>\n",
       "      <td>My niece loved this birthday greeting/gift card.</td>\n",
       "      <td>Love the convenience of eCards</td>\n",
       "      <td>Positive</td>\n",
       "      <td>50</td>\n",
       "      <td>48</td>\n",
       "    </tr>\n",
       "    <tr>\n",
       "      <th>4</th>\n",
       "      <td>5</td>\n",
       "      <td>True</td>\n",
       "      <td>ACDG3M94UMZGJ</td>\n",
       "      <td>B004LLIKVU</td>\n",
       "      <td>Joan Freesh</td>\n",
       "      <td>fine as a gift.</td>\n",
       "      <td>Five Stars</td>\n",
       "      <td>Positive</td>\n",
       "      <td>50</td>\n",
       "      <td>15</td>\n",
       "    </tr>\n",
       "    <tr>\n",
       "      <th>...</th>\n",
       "      <td>...</td>\n",
       "      <td>...</td>\n",
       "      <td>...</td>\n",
       "      <td>...</td>\n",
       "      <td>...</td>\n",
       "      <td>...</td>\n",
       "      <td>...</td>\n",
       "      <td>...</td>\n",
       "      <td>...</td>\n",
       "      <td>...</td>\n",
       "    </tr>\n",
       "    <tr>\n",
       "      <th>2967</th>\n",
       "      <td>5</td>\n",
       "      <td>True</td>\n",
       "      <td>A1MXZ1CW0ZVTKL</td>\n",
       "      <td>B01DWOZKSC</td>\n",
       "      <td>Steve</td>\n",
       "      <td>Not much to say, gift card is as good as cash!</td>\n",
       "      <td>gift card is as good as cash</td>\n",
       "      <td>Positive</td>\n",
       "      <td>0</td>\n",
       "      <td>46</td>\n",
       "    </tr>\n",
       "    <tr>\n",
       "      <th>2968</th>\n",
       "      <td>4</td>\n",
       "      <td>True</td>\n",
       "      <td>A1SVYJFIASQ46Z</td>\n",
       "      <td>B01DWOZKSC</td>\n",
       "      <td>Amazon Customer</td>\n",
       "      <td>Nice gift card</td>\n",
       "      <td>Four Stars</td>\n",
       "      <td>Positive</td>\n",
       "      <td>0</td>\n",
       "      <td>14</td>\n",
       "    </tr>\n",
       "    <tr>\n",
       "      <th>2969</th>\n",
       "      <td>5</td>\n",
       "      <td>True</td>\n",
       "      <td>A1QZ08NSDCZBA3</td>\n",
       "      <td>B01E4QS95I</td>\n",
       "      <td>Slickdome</td>\n",
       "      <td>Gift</td>\n",
       "      <td>Great Gift</td>\n",
       "      <td>Positive</td>\n",
       "      <td>0</td>\n",
       "      <td>4</td>\n",
       "    </tr>\n",
       "    <tr>\n",
       "      <th>2970</th>\n",
       "      <td>5</td>\n",
       "      <td>True</td>\n",
       "      <td>A1L4GG3FBMIG6V</td>\n",
       "      <td>B01FERR9FW</td>\n",
       "      <td>Amazon Customer</td>\n",
       "      <td>Pretty good!</td>\n",
       "      <td>Pretty good!</td>\n",
       "      <td>Positive</td>\n",
       "      <td>250</td>\n",
       "      <td>12</td>\n",
       "    </tr>\n",
       "    <tr>\n",
       "      <th>2971</th>\n",
       "      <td>5</td>\n",
       "      <td>True</td>\n",
       "      <td>A1MXZ1CW0ZVTKL</td>\n",
       "      <td>B01GKWEPBG</td>\n",
       "      <td>Steve</td>\n",
       "      <td>Not much to say, gift card is as good as cash!</td>\n",
       "      <td>gift card is as good as cash</td>\n",
       "      <td>Positive</td>\n",
       "      <td>0</td>\n",
       "      <td>46</td>\n",
       "    </tr>\n",
       "  </tbody>\n",
       "</table>\n",
       "<p>2972 rows × 10 columns</p>\n",
       "</div>"
      ],
      "text/plain": [
       "      overall  verified      reviewerID        asin      reviewerName  \\\n",
       "0           5      True  A31UBHTUUIFJUT  B004LLIKVU      john stoiber   \n",
       "1           4      True  A2MN5JQMIY0FQ2  B004LLIKVU   Amazon Customer   \n",
       "2           5      True  A25POI5IGGENPM  B004LLIKVU   Kindle Customer   \n",
       "3           5      True  A2HYGTHB4LJ9FW  B004LLIKVU  Amante dei Gatti   \n",
       "4           5      True   ACDG3M94UMZGJ  B004LLIKVU       Joan Freesh   \n",
       "...       ...       ...             ...         ...               ...   \n",
       "2967        5      True  A1MXZ1CW0ZVTKL  B01DWOZKSC             Steve   \n",
       "2968        4      True  A1SVYJFIASQ46Z  B01DWOZKSC   Amazon Customer   \n",
       "2969        5      True  A1QZ08NSDCZBA3  B01E4QS95I         Slickdome   \n",
       "2970        5      True  A1L4GG3FBMIG6V  B01FERR9FW   Amazon Customer   \n",
       "2971        5      True  A1MXZ1CW0ZVTKL  B01GKWEPBG             Steve   \n",
       "\n",
       "                                            reviewText  \\\n",
       "0                                  Another great gift.   \n",
       "1                            Gift card for my daughter   \n",
       "2                                         Nice present   \n",
       "3     My niece loved this birthday greeting/gift card.   \n",
       "4                                      fine as a gift.   \n",
       "...                                                ...   \n",
       "2967    Not much to say, gift card is as good as cash!   \n",
       "2968                                    Nice gift card   \n",
       "2969                                              Gift   \n",
       "2970                                      Pretty good!   \n",
       "2971    Not much to say, gift card is as good as cash!   \n",
       "\n",
       "                             summary sentiment  price  review_length  \n",
       "0                         Five Stars  Positive     50             19  \n",
       "1                        Ease of use  Positive     50             25  \n",
       "2                         Five Stars  Positive     50             12  \n",
       "3     Love the convenience of eCards  Positive     50             48  \n",
       "4                         Five Stars  Positive     50             15  \n",
       "...                              ...       ...    ...            ...  \n",
       "2967    gift card is as good as cash  Positive      0             46  \n",
       "2968                      Four Stars  Positive      0             14  \n",
       "2969                      Great Gift  Positive      0              4  \n",
       "2970                    Pretty good!  Positive    250             12  \n",
       "2971    gift card is as good as cash  Positive      0             46  \n",
       "\n",
       "[2972 rows x 10 columns]"
      ]
     },
     "execution_count": 54,
     "metadata": {},
     "output_type": "execute_result"
    }
   ],
   "source": [
    "df"
   ]
  },
  {
   "cell_type": "code",
   "execution_count": 56,
   "id": "935d37c8",
   "metadata": {},
   "outputs": [
    {
     "data": {
      "text/html": [
       "<div>\n",
       "<style scoped>\n",
       "    .dataframe tbody tr th:only-of-type {\n",
       "        vertical-align: middle;\n",
       "    }\n",
       "\n",
       "    .dataframe tbody tr th {\n",
       "        vertical-align: top;\n",
       "    }\n",
       "\n",
       "    .dataframe thead th {\n",
       "        text-align: right;\n",
       "    }\n",
       "</style>\n",
       "<table border=\"1\" class=\"dataframe\">\n",
       "  <thead>\n",
       "    <tr style=\"text-align: right;\">\n",
       "      <th></th>\n",
       "      <th>overall</th>\n",
       "      <th>verified</th>\n",
       "      <th>reviewerID</th>\n",
       "      <th>asin</th>\n",
       "      <th>reviewerName</th>\n",
       "      <th>reviewText</th>\n",
       "      <th>summary</th>\n",
       "      <th>sentiment</th>\n",
       "      <th>price</th>\n",
       "      <th>review_length</th>\n",
       "    </tr>\n",
       "  </thead>\n",
       "  <tbody>\n",
       "    <tr>\n",
       "      <th>0</th>\n",
       "      <td>5</td>\n",
       "      <td>True</td>\n",
       "      <td>A31UBHTUUIFJUT</td>\n",
       "      <td>B004LLIKVU</td>\n",
       "      <td>john stoiber</td>\n",
       "      <td>Another great gift.</td>\n",
       "      <td>Five Stars</td>\n",
       "      <td>Positive</td>\n",
       "      <td>50</td>\n",
       "      <td>19</td>\n",
       "    </tr>\n",
       "    <tr>\n",
       "      <th>1</th>\n",
       "      <td>4</td>\n",
       "      <td>True</td>\n",
       "      <td>A2MN5JQMIY0FQ2</td>\n",
       "      <td>B004LLIKVU</td>\n",
       "      <td>Amazon Customer</td>\n",
       "      <td>Gift card for my daughter</td>\n",
       "      <td>Ease of use</td>\n",
       "      <td>Positive</td>\n",
       "      <td>50</td>\n",
       "      <td>25</td>\n",
       "    </tr>\n",
       "    <tr>\n",
       "      <th>2</th>\n",
       "      <td>5</td>\n",
       "      <td>True</td>\n",
       "      <td>A25POI5IGGENPM</td>\n",
       "      <td>B004LLIKVU</td>\n",
       "      <td>Kindle Customer</td>\n",
       "      <td>Nice present</td>\n",
       "      <td>Five Stars</td>\n",
       "      <td>Positive</td>\n",
       "      <td>50</td>\n",
       "      <td>12</td>\n",
       "    </tr>\n",
       "    <tr>\n",
       "      <th>3</th>\n",
       "      <td>5</td>\n",
       "      <td>True</td>\n",
       "      <td>A2HYGTHB4LJ9FW</td>\n",
       "      <td>B004LLIKVU</td>\n",
       "      <td>Amante dei Gatti</td>\n",
       "      <td>My niece loved this birthday greeting/gift card.</td>\n",
       "      <td>Love the convenience of eCards</td>\n",
       "      <td>Positive</td>\n",
       "      <td>50</td>\n",
       "      <td>48</td>\n",
       "    </tr>\n",
       "    <tr>\n",
       "      <th>4</th>\n",
       "      <td>5</td>\n",
       "      <td>True</td>\n",
       "      <td>ACDG3M94UMZGJ</td>\n",
       "      <td>B004LLIKVU</td>\n",
       "      <td>Joan Freesh</td>\n",
       "      <td>fine as a gift.</td>\n",
       "      <td>Five Stars</td>\n",
       "      <td>Positive</td>\n",
       "      <td>50</td>\n",
       "      <td>15</td>\n",
       "    </tr>\n",
       "    <tr>\n",
       "      <th>5</th>\n",
       "      <td>5</td>\n",
       "      <td>True</td>\n",
       "      <td>ABWSFKJ1MRN1Q</td>\n",
       "      <td>B004LLIKVU</td>\n",
       "      <td>Barb Peterson</td>\n",
       "      <td>I would have preferred some more choices.</td>\n",
       "      <td>Five Stars</td>\n",
       "      <td>Positive</td>\n",
       "      <td>50</td>\n",
       "      <td>41</td>\n",
       "    </tr>\n",
       "    <tr>\n",
       "      <th>6</th>\n",
       "      <td>5</td>\n",
       "      <td>True</td>\n",
       "      <td>A34JP8QRZRS7W5</td>\n",
       "      <td>B004LLIKVU</td>\n",
       "      <td>dood</td>\n",
       "      <td>great</td>\n",
       "      <td>great</td>\n",
       "      <td>Positive</td>\n",
       "      <td>50</td>\n",
       "      <td>5</td>\n",
       "    </tr>\n",
       "    <tr>\n",
       "      <th>7</th>\n",
       "      <td>5</td>\n",
       "      <td>True</td>\n",
       "      <td>A2JCUY769II5B5</td>\n",
       "      <td>B004LLIKVU</td>\n",
       "      <td>Stephanie K</td>\n",
       "      <td>Very cute design and enjoyed by recipient.</td>\n",
       "      <td>Five Stars</td>\n",
       "      <td>Positive</td>\n",
       "      <td>50</td>\n",
       "      <td>42</td>\n",
       "    </tr>\n",
       "    <tr>\n",
       "      <th>8</th>\n",
       "      <td>4</td>\n",
       "      <td>True</td>\n",
       "      <td>A1MAKKM3E4PFE2</td>\n",
       "      <td>B004LLIKVU</td>\n",
       "      <td>NPR MAN</td>\n",
       "      <td>I used the text option to send these last minu...</td>\n",
       "      <td>I texted this gift card to my Granddaughter, w...</td>\n",
       "      <td>Positive</td>\n",
       "      <td>50</td>\n",
       "      <td>344</td>\n",
       "    </tr>\n",
       "    <tr>\n",
       "      <th>9</th>\n",
       "      <td>5</td>\n",
       "      <td>True</td>\n",
       "      <td>A35NK1PEDWMV0I</td>\n",
       "      <td>B004LLIKVU</td>\n",
       "      <td>Traveler</td>\n",
       "      <td>This was for a gift and it was well received.</td>\n",
       "      <td>Five Stars</td>\n",
       "      <td>Positive</td>\n",
       "      <td>50</td>\n",
       "      <td>45</td>\n",
       "    </tr>\n",
       "  </tbody>\n",
       "</table>\n",
       "</div>"
      ],
      "text/plain": [
       "   overall  verified      reviewerID        asin      reviewerName  \\\n",
       "0        5      True  A31UBHTUUIFJUT  B004LLIKVU      john stoiber   \n",
       "1        4      True  A2MN5JQMIY0FQ2  B004LLIKVU   Amazon Customer   \n",
       "2        5      True  A25POI5IGGENPM  B004LLIKVU   Kindle Customer   \n",
       "3        5      True  A2HYGTHB4LJ9FW  B004LLIKVU  Amante dei Gatti   \n",
       "4        5      True   ACDG3M94UMZGJ  B004LLIKVU       Joan Freesh   \n",
       "5        5      True   ABWSFKJ1MRN1Q  B004LLIKVU     Barb Peterson   \n",
       "6        5      True  A34JP8QRZRS7W5  B004LLIKVU              dood   \n",
       "7        5      True  A2JCUY769II5B5  B004LLIKVU       Stephanie K   \n",
       "8        4      True  A1MAKKM3E4PFE2  B004LLIKVU           NPR MAN   \n",
       "9        5      True  A35NK1PEDWMV0I  B004LLIKVU          Traveler   \n",
       "\n",
       "                                          reviewText  \\\n",
       "0                                Another great gift.   \n",
       "1                          Gift card for my daughter   \n",
       "2                                       Nice present   \n",
       "3   My niece loved this birthday greeting/gift card.   \n",
       "4                                    fine as a gift.   \n",
       "5          I would have preferred some more choices.   \n",
       "6                                              great   \n",
       "7         Very cute design and enjoyed by recipient.   \n",
       "8  I used the text option to send these last minu...   \n",
       "9      This was for a gift and it was well received.   \n",
       "\n",
       "                                             summary sentiment  price  \\\n",
       "0                                         Five Stars  Positive     50   \n",
       "1                                        Ease of use  Positive     50   \n",
       "2                                         Five Stars  Positive     50   \n",
       "3                     Love the convenience of eCards  Positive     50   \n",
       "4                                         Five Stars  Positive     50   \n",
       "5                                         Five Stars  Positive     50   \n",
       "6                                              great  Positive     50   \n",
       "7                                         Five Stars  Positive     50   \n",
       "8  I texted this gift card to my Granddaughter, w...  Positive     50   \n",
       "9                                         Five Stars  Positive     50   \n",
       "\n",
       "   review_length  \n",
       "0             19  \n",
       "1             25  \n",
       "2             12  \n",
       "3             48  \n",
       "4             15  \n",
       "5             41  \n",
       "6              5  \n",
       "7             42  \n",
       "8            344  \n",
       "9             45  "
      ]
     },
     "execution_count": 56,
     "metadata": {},
     "output_type": "execute_result"
    }
   ],
   "source": [
    "df.head(10)"
   ]
  },
  {
   "cell_type": "code",
   "execution_count": 57,
   "id": "02d33d25",
   "metadata": {},
   "outputs": [
    {
     "name": "stderr",
     "output_type": "stream",
     "text": [
      "C:\\Users\\Administrator\\AppData\\Local\\Temp\\ipykernel_19704\\2079836357.py:1: FutureWarning: The default value of numeric_only in DataFrame.corr is deprecated. In a future version, it will default to False. Select only valid columns or specify the value of numeric_only to silence this warning.\n",
      "  corr_matrix = df.corr()\n"
     ]
    },
    {
     "data": {
      "image/png": "[encoded data removed]",
      "text/plain": [
       "<Figure size 1000x800 with 2 Axes>"
      ]
     },
     "metadata": {},
     "output_type": "display_data"
    }
   ],
   "source": [
    "corr_matrix = df.corr()\n",
    "\n",
    "# Plot correlation heatmap\n",
    "plt.figure(figsize=(10, 8))\n",
    "sns.heatmap(corr_matrix, annot=True, cmap='coolwarm', fmt=\".2f\", linewidths=.5)\n",
    "plt.title('Correlation Matrix')\n",
    "plt.show()"
   ]
  },
  {
   "cell_type": "code",
   "execution_count": 58,
   "id": "8e1a2e18",
   "metadata": {},
   "outputs": [
    {
     "data": {
      "text/plain": [
       "array([<Axes: title={'center': 'False'}>,\n",
       "       <Axes: title={'center': 'True'}>], dtype=object)"
      ]
     },
     "execution_count": 58,
     "metadata": {},
     "output_type": "execute_result"
    },
    {
     "data": {
      "image/png": "[encoded data removed]",
      "text/plain": [
       "<Figure size 640x480 with 2 Axes>"
      ]
     },
     "metadata": {},
     "output_type": "display_data"
    }
   ],
   "source": [
    "df.hist(column='overall', by='verified')"
   ]
  },
  {
   "cell_type": "code",
   "execution_count": 59,
   "id": "c481a4c3",
   "metadata": {},
   "outputs": [
    {
     "data": {
      "text/plain": [
       "True     2838\n",
       "False     134\n",
       "Name: verified, dtype: int64"
      ]
     },
     "execution_count": 59,
     "metadata": {},
     "output_type": "execute_result"
    }
   ],
   "source": [
    "df['verified'].value_counts()"
   ]
  },
  {
   "cell_type": "code",
   "execution_count": null,
   "id": "3c267a5d",
   "metadata": {},
   "outputs": [],
   "source": []
  },
  {
   "cell_type": "code",
   "execution_count": null,
   "id": "5352845e",
   "metadata": {},
   "outputs": [],
   "source": []
  },
  {
   "cell_type": "code",
   "execution_count": null,
   "id": "c33997d6",
   "metadata": {},
   "outputs": [],
   "source": []
  },
  {
   "cell_type": "code",
   "execution_count": null,
   "id": "1143b2d2",
   "metadata": {},
   "outputs": [],
   "source": []
  },
  {
   "cell_type": "code",
   "execution_count": null,
   "id": "5eb51bcb",
   "metadata": {},
   "outputs": [],
   "source": []
  },
  {
   "cell_type": "code",
   "execution_count": null,
   "id": "494e63ca",
   "metadata": {},
   "outputs": [],
   "source": []
  },
  {
   "cell_type": "code",
   "execution_count": null,
   "id": "583dbb33",
   "metadata": {},
   "outputs": [],
   "source": []
  },
  {
   "cell_type": "code",
   "execution_count": null,
   "id": "5e7731ef",
   "metadata": {},
   "outputs": [],
   "source": []
  },
  {
   "cell_type": "code",
   "execution_count": null,
   "id": "1b87831d",
   "metadata": {},
   "outputs": [],
   "source": []
  },
  {
   "cell_type": "code",
   "execution_count": null,
   "id": "e7155662",
   "metadata": {},
   "outputs": [],
   "source": []
  },
  {
   "cell_type": "code",
   "execution_count": null,
   "id": "8963eba7",
   "metadata": {},
   "outputs": [],
   "source": []
  },
  {
   "cell_type": "code",
   "execution_count": null,
   "id": "aa04cc56",
   "metadata": {},
   "outputs": [],
   "source": []
  },
  {
   "cell_type": "code",
   "execution_count": null,
   "id": "6f101e30",
   "metadata": {},
   "outputs": [],
   "source": []
  },
  {
   "cell_type": "code",
   "execution_count": null,
   "id": "8a1435c9",
   "metadata": {},
   "outputs": [],
   "source": []
  },
  {
   "cell_type": "code",
   "execution_count": null,
   "id": "a7dd47e1",
   "metadata": {},
   "outputs": [],
   "source": []
  },
  {
   "cell_type": "code",
   "execution_count": null,
   "id": "68be4ef2",
   "metadata": {},
   "outputs": [],
   "source": []
  },
  {
   "cell_type": "code",
   "execution_count": null,
   "id": "d04335c4",
   "metadata": {},
   "outputs": [],
   "source": []
  },
  {
   "cell_type": "code",
   "execution_count": null,
   "id": "fec36ecf",
   "metadata": {},
   "outputs": [],
   "source": []
  },
  {
   "cell_type": "code",
   "execution_count": null,
   "id": "739d3f8d",
   "metadata": {},
   "outputs": [],
   "source": []
  },
  {
   "cell_type": "code",
   "execution_count": null,
   "id": "de130ab0",
   "metadata": {},
   "outputs": [],
   "source": []
  }
 ],
 "metadata": {
  "kernelspec": {
   "display_name": "Python 3 (ipykernel)",
   "language": "python",
   "name": "python3"
  },
  "language_info": {
   "codemirror_mode": {
    "name": "ipython",
    "version": 3
   },
   "file_extension": ".py",
   "mimetype": "text/x-python",
   "name": "python",
   "nbconvert_exporter": "python",
   "pygments_lexer": "ipython3",
   "version": "3.11.4"
  }
 },
 "nbformat": 4,
 "nbformat_minor": 5
}
